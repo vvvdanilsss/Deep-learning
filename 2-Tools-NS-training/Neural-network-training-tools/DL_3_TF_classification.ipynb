{
  "nbformat": 4,
  "nbformat_minor": 0,
  "metadata": {
    "colab": {
      "provenance": []
    },
    "kernelspec": {
      "name": "python3",
      "display_name": "Python 3"
    },
    "language_info": {
      "name": "python"
    }
  },
  "cells": [
    {
      "cell_type": "markdown",
      "source": [
        "# Построение нейронной сети средствами Tensorflow\n",
        "В этом блокноте мы покажем, как можно создать полносвязную нейронную сеть с нуля средствами Tensorflow"
      ],
      "metadata": {
        "id": "2EA-1NNmiqdW",
        "pycharm": {
          "name": "#%% md\n"
        }
      }
    },
    {
      "cell_type": "code",
      "metadata": {
        "id": "glWbSV3Qmb-d",
        "pycharm": {
          "name": "#%%\n"
        }
      },
      "source": [
        "from keras.datasets import mnist\n",
        "import tensorflow as tf\n",
        "import numpy as np\n",
        "import matplotlib.pyplot as plt"
      ],
      "execution_count": 1,
      "outputs": []
    },
    {
      "cell_type": "markdown",
      "source": [
        "Загрузим знакомые нам данные — набор данных MNIST, будем решать задачу классификации"
      ],
      "metadata": {
        "id": "5tgro4LMivWI",
        "pycharm": {
          "name": "#%% md\n"
        }
      }
    },
    {
      "cell_type": "code",
      "metadata": {
        "id": "E4Z-R6mfo-OM",
        "pycharm": {
          "name": "#%%\n"
        }
      },
      "source": [
        "(x_train, y_train), (x_test, y_test) = mnist.load_data()"
      ],
      "execution_count": 2,
      "outputs": []
    },
    {
      "cell_type": "markdown",
      "source": [
        "Посмотрим на объемы загруженных данных"
      ],
      "metadata": {
        "id": "dXhOJFHciwyo",
        "pycharm": {
          "name": "#%% md\n"
        }
      }
    },
    {
      "cell_type": "code",
      "source": [
        "print('Training data size : ', x_train.shape)\n",
        "print('Test data size: ', x_test.shape)"
      ],
      "metadata": {
        "colab": {
          "base_uri": "https://localhost:8080/"
        },
        "id": "FfUUfxt0R10L",
        "outputId": "dd19e5da-63a3-4fd3-da50-17f417958662",
        "pycharm": {
          "name": "#%%\n"
        }
      },
      "execution_count": 3,
      "outputs": [
        {
          "output_type": "stream",
          "name": "stdout",
          "text": [
            "Training data size :  (60000, 28, 28)\n",
            "Test data size:  (10000, 28, 28)\n"
          ]
        }
      ]
    },
    {
      "cell_type": "markdown",
      "source": [
        "Выведем какое-нибудь изображение, проверим, что на первый взгляд данные подгрузились корректно, метки классов разумны."
      ],
      "metadata": {
        "id": "TX3sh7dZi3Mn",
        "pycharm": {
          "name": "#%% md\n"
        }
      }
    },
    {
      "cell_type": "code",
      "source": [
        "plt.imshow(x_train[0], cmap='gray')\n",
        "print('Label выводимого изображения:', y_train[0])\n",
        "plt.show()"
      ],
      "metadata": {
        "colab": {
          "base_uri": "https://localhost:8080/",
          "height": 447
        },
        "id": "cPu33F7jC-cD",
        "outputId": "bc5b7df2-8594-43e1-95f1-dd73ce3ff90b",
        "pycharm": {
          "name": "#%%\n"
        }
      },
      "execution_count": 4,
      "outputs": [
        {
          "output_type": "stream",
          "name": "stdout",
          "text": [
            "Label выводимого изображения: 5\n"
          ]
        },
        {
          "output_type": "display_data",
          "data": {
            "text/plain": [
              "<Figure size 640x480 with 1 Axes>"
            ],
            "image/png": "[encoded data removed]"
          },
          "metadata": {}
        }
      ]
    },
    {
      "cell_type": "markdown",
      "source": [
        "Сформируем данные-строки для подачи на вход нейронной сети, нормируем данные"
      ],
      "metadata": {
        "id": "Mp-FfCw2i61O",
        "pycharm": {
          "name": "#%% md\n"
        }
      }
    },
    {
      "cell_type": "code",
      "source": [
        "X_train = x_train.reshape(-1, 28 * 28)\n",
        "X_train = X_train.astype('float32') / 255\n",
        "X_train"
      ],
      "metadata": {
        "colab": {
          "base_uri": "https://localhost:8080/"
        },
        "id": "J4O3xStTT5-9",
        "outputId": "6a28caad-b29b-470f-c068-51472363d841",
        "pycharm": {
          "name": "#%%\n"
        }
      },
      "execution_count": 5,
      "outputs": [
        {
          "output_type": "execute_result",
          "data": {
            "text/plain": [
              "array([[0., 0., 0., ..., 0., 0., 0.],\n",
              "       [0., 0., 0., ..., 0., 0., 0.],\n",
              "       [0., 0., 0., ..., 0., 0., 0.],\n",
              "       ...,\n",
              "       [0., 0., 0., ..., 0., 0., 0.],\n",
              "       [0., 0., 0., ..., 0., 0., 0.],\n",
              "       [0., 0., 0., ..., 0., 0., 0.]], dtype=float32)"
            ]
          },
          "metadata": {},
          "execution_count": 5
        }
      ]
    },
    {
      "cell_type": "markdown",
      "source": [
        "Укажем, что лейблы — целые"
      ],
      "metadata": {
        "id": "dGTCi2mWjO4T",
        "pycharm": {
          "name": "#%% md\n"
        }
      }
    },
    {
      "cell_type": "code",
      "source": [
        "y_train = y_train.astype('int64')\n",
        "y_train"
      ],
      "metadata": {
        "colab": {
          "base_uri": "https://localhost:8080/"
        },
        "id": "wrMEbduuhokB",
        "outputId": "f7ab62ac-46ac-4372-dcd0-0577b0bf5e53",
        "pycharm": {
          "name": "#%%\n"
        }
      },
      "execution_count": 6,
      "outputs": [
        {
          "output_type": "execute_result",
          "data": {
            "text/plain": [
              "array([5, 0, 4, ..., 5, 6, 8])"
            ]
          },
          "metadata": {},
          "execution_count": 6
        }
      ]
    },
    {
      "cell_type": "markdown",
      "source": [
        "То же самое проделаем с тестовыми данными"
      ],
      "metadata": {
        "id": "Iyt6S34AjdWF",
        "pycharm": {
          "name": "#%% md\n"
        }
      }
    },
    {
      "cell_type": "code",
      "source": [
        "X_test = x_test.reshape(-1, 28 * 28)\n",
        "X_test = X_test.astype('float32') / 255\n",
        "y_test = y_test.astype('int64')"
      ],
      "metadata": {
        "id": "Lu_F6O55jW6R",
        "pycharm": {
          "name": "#%%\n"
        }
      },
      "execution_count": 7,
      "outputs": []
    },
    {
      "cell_type": "markdown",
      "source": [
        "Будем строить нейронную сеть с тремя скрытыми слоями. Укажем размер батча для шага обучения, количество входных параметров, количество нейронов в скрытых слоях и количество выходных нейронов (их, конечно, $10$)."
      ],
      "metadata": {
        "collapsed": false,
        "pycharm": {
          "name": "#%% md\n"
        },
        "id": "HqE2KKUv9g3T"
      }
    },
    {
      "cell_type": "code",
      "metadata": {
        "id": "reVQjG2GpKvK",
        "pycharm": {
          "name": "#%%\n"
        }
      },
      "source": [
        "batch_size = 100  # размер батча для обучения\n",
        "num_input = 784  # количество входных нейронов (28 * 28)\n",
        "num_hidden1 = 128  # количество нейронов первого скрытого слоя\n",
        "num_hidden2 = 256  # количество нейронов второго скрытого слоя\n",
        "num_hidden3 = 128  # количество нейронов третьего скрытого слоя\n",
        "num_output = 10  # количество выходов (такое же, как количество классов)"
      ],
      "execution_count": 8,
      "outputs": []
    },
    {
      "cell_type": "markdown",
      "source": [
        "Теперь создадим архитектуру сети. Обратите внимание, что мы используем следующую модель действия слоя:\n",
        "$$\n",
        "Y = XW + b, \\quad Z = \\varphi(Y),\n",
        "$$\n",
        "$\\varphi$ -- функция активации, что не противоречит ничему из изложенного в предыдущих лекциях.\n"
      ],
      "metadata": {
        "id": "H0eRFTQOoIau",
        "pycharm": {
          "name": "#%% md\n"
        }
      }
    },
    {
      "cell_type": "code",
      "metadata": {
        "id": "yzwXvWULpYky",
        "pycharm": {
          "name": "#%%\n"
        }
      },
      "source": [
        "def multi_layer_perceptron_mnist(x):\n",
        "    # создаем первый скрытый слой со своими весами и сдвигами, используем ReLU в качестве функции активации\n",
        "    hidden_layer1 = tf.add(tf.matmul(x, weights['w_h1']), biases['b_h1'])\n",
        "    hidden_layer1 = tf.nn.relu(hidden_layer1)\n",
        "    # создаем второй скрытый слой со своими весами и сдвигами, используем ReLU в качестве функции активации\n",
        "    hidden_layer2 = tf.add(tf.matmul(hidden_layer1, weights['w_h2']), biases['b_h2'])\n",
        "    hidden_layer2 = tf.nn.relu(hidden_layer2)\n",
        "    # создаем третий скрытый слой со своими весами и сдвигами, используем ReLU в качестве функции активации, при обучении используем dropout\n",
        "    hidden_drop = tf.nn.dropout(hidden_layer2, 0.1)\n",
        "    hidden_layer3 = tf.add(tf.matmul(hidden_drop, weights['w_h3']), biases['b_h3'])\n",
        "    hidden_layer3 = tf.nn.relu(hidden_layer3)\n",
        "    # создаем последний слой, в качестве функции активации будет использоваться Softmax-подход, его введем в loss-части\n",
        "    out_layer = tf.add(tf.matmul(hidden_layer3, weights['w_out']), biases['b_out'])\n",
        "    return out_layer"
      ],
      "execution_count": 9,
      "outputs": []
    },
    {
      "cell_type": "code",
      "metadata": {
        "id": "QWFQETo_peiZ",
        "pycharm": {
          "name": "#%%\n"
        }
      },
      "source": [
        "# случайным образом инициализируем веса и сдвиги соответствующих размеров,\n",
        "# инициализация идет согласно стандартному нормальному закону\n",
        "weights = {\n",
        "    'w_h1': tf.Variable(tf.random.normal([num_input, num_hidden1])),\n",
        "    'w_h2': tf.Variable(tf.random.normal([num_hidden1, num_hidden2])),\n",
        "    'w_h3': tf.Variable(tf.random.normal([num_hidden2, num_hidden3])),\n",
        "    'w_out': tf.Variable(tf.random.normal([num_hidden3, num_output]))\n",
        "}\n",
        "biases = {\n",
        "    'b_h1': tf.Variable(tf.random.normal([num_hidden1])),\n",
        "    'b_h2': tf.Variable(tf.random.normal([num_hidden2])),\n",
        "    'b_h3': tf.Variable(tf.random.normal([num_hidden3])),\n",
        "    'b_out': tf.Variable(tf.random.normal([num_output]))\n",
        "}"
      ],
      "execution_count": 10,
      "outputs": []
    },
    {
      "cell_type": "markdown",
      "source": [
        "Теперь зададим проход вперед по подаваемому батчу данных."
      ],
      "metadata": {
        "id": "62AU9p4ksxY0",
        "pycharm": {
          "name": "#%% md\n"
        }
      }
    },
    {
      "cell_type": "code",
      "source": [
        "def forward_pass(x):\n",
        "    return multi_layer_perceptron_mnist(x)"
      ],
      "metadata": {
        "id": "rfjugl5ymZeJ",
        "pycharm": {
          "name": "#%%\n"
        }
      },
      "execution_count": 11,
      "outputs": []
    },
    {
      "cell_type": "markdown",
      "source": [
        "Будем минимизировать Softmax кросс-энтропию. Обратите внимание, мы вызываем только прямой проход."
      ],
      "metadata": {
        "collapsed": false,
        "pycharm": {
          "name": "#%% md\n"
        },
        "id": "tQnLHLsB9g3V"
      }
    },
    {
      "cell_type": "code",
      "source": [
        "def loss():\n",
        "    return tf.reduce_mean(tf.nn.sparse_softmax_cross_entropy_with_logits(logits=forward_pass(X_batch), labels=y_batch))"
      ],
      "metadata": {
        "id": "yGyzMkwUk7kJ",
        "pycharm": {
          "name": "#%%\n"
        }
      },
      "execution_count": 12,
      "outputs": []
    },
    {
      "cell_type": "markdown",
      "source": [
        "Зададим оптимизатор, например, снова Adam."
      ],
      "metadata": {
        "id": "-GyBcXfAs1NZ",
        "pycharm": {
          "name": "#%% md\n"
        }
      }
    },
    {
      "cell_type": "code",
      "metadata": {
        "id": "llejgMlav5sY",
        "pycharm": {
          "name": "#%%\n"
        }
      },
      "source": [
        "optimizer = tf.optimizers.Adam(0.01)"
      ],
      "execution_count": 13,
      "outputs": []
    },
    {
      "cell_type": "markdown",
      "source": [
        "Теперь начинаем обучаться."
      ],
      "metadata": {
        "id": "0y-XJ7K_s3d_",
        "pycharm": {
          "name": "#%% md\n"
        }
      }
    },
    {
      "cell_type": "code",
      "execution_count": 14,
      "outputs": [],
      "source": [
        "ep_number = 50\n",
        "batch_size = 1000\n",
        "display_step = 10"
      ],
      "metadata": {
        "pycharm": {
          "name": "#%%\n"
        },
        "id": "EbfI5NTy9g3W"
      }
    },
    {
      "cell_type": "code",
      "metadata": {
        "id": "C4lCZC3_wW3N",
        "pycharm": {
          "name": "#%%\n"
        },
        "outputId": "847f193d-1dff-451c-db62-e3bc4a11e19d",
        "colab": {
          "base_uri": "https://localhost:8080/"
        }
      },
      "source": [
        "for ep in range(ep_number):\n",
        "    for _ in range(0, int(len(X_train) / batch_size - 1)):\n",
        "        X_batch = X_train[_ * batch_size: (_ + 1) * batch_size]\n",
        "        y_batch = y_train[_ * batch_size: (_ + 1) * batch_size]\n",
        "        optimizer.minimize(loss, var_list=([values for key, values in weights.items()] + [values for key, values in biases.items()]))\n",
        "    X_batch = X_train[(_ + 1) * batch_size:]\n",
        "    y_batch = y_train[(_ + 1) * batch_size:]\n",
        "    optimizer.minimize(loss, var_list=([values for key, values in weights.items()] + [values for key, values in biases.items()]))\n",
        "    print('Epoch: ' + str(ep + 1) + ' Loss: ' + str(loss()))"
      ],
      "execution_count": 15,
      "outputs": [
        {
          "output_type": "stream",
          "name": "stdout",
          "text": [
            "Epoch: 1 Loss: tf.Tensor(172.80325, shape=(), dtype=float32)\n",
            "Epoch: 2 Loss: tf.Tensor(92.73916, shape=(), dtype=float32)\n",
            "Epoch: 3 Loss: tf.Tensor(57.321457, shape=(), dtype=float32)\n",
            "Epoch: 4 Loss: tf.Tensor(43.57206, shape=(), dtype=float32)\n",
            "Epoch: 5 Loss: tf.Tensor(30.580843, shape=(), dtype=float32)\n",
            "Epoch: 6 Loss: tf.Tensor(26.288788, shape=(), dtype=float32)\n",
            "Epoch: 7 Loss: tf.Tensor(22.345459, shape=(), dtype=float32)\n",
            "Epoch: 8 Loss: tf.Tensor(18.192844, shape=(), dtype=float32)\n",
            "Epoch: 9 Loss: tf.Tensor(15.4882965, shape=(), dtype=float32)\n",
            "Epoch: 10 Loss: tf.Tensor(18.407867, shape=(), dtype=float32)\n",
            "Epoch: 11 Loss: tf.Tensor(14.665477, shape=(), dtype=float32)\n",
            "Epoch: 12 Loss: tf.Tensor(9.673319, shape=(), dtype=float32)\n",
            "Epoch: 13 Loss: tf.Tensor(8.104279, shape=(), dtype=float32)\n",
            "Epoch: 14 Loss: tf.Tensor(8.426518, shape=(), dtype=float32)\n",
            "Epoch: 15 Loss: tf.Tensor(6.88912, shape=(), dtype=float32)\n",
            "Epoch: 16 Loss: tf.Tensor(5.307866, shape=(), dtype=float32)\n",
            "Epoch: 17 Loss: tf.Tensor(5.3447404, shape=(), dtype=float32)\n",
            "Epoch: 18 Loss: tf.Tensor(4.055184, shape=(), dtype=float32)\n",
            "Epoch: 19 Loss: tf.Tensor(4.45412, shape=(), dtype=float32)\n",
            "Epoch: 20 Loss: tf.Tensor(4.502532, shape=(), dtype=float32)\n",
            "Epoch: 21 Loss: tf.Tensor(3.1275034, shape=(), dtype=float32)\n",
            "Epoch: 22 Loss: tf.Tensor(3.5612934, shape=(), dtype=float32)\n",
            "Epoch: 23 Loss: tf.Tensor(1.6128584, shape=(), dtype=float32)\n",
            "Epoch: 24 Loss: tf.Tensor(1.6699725, shape=(), dtype=float32)\n",
            "Epoch: 25 Loss: tf.Tensor(1.0936668, shape=(), dtype=float32)\n",
            "Epoch: 26 Loss: tf.Tensor(1.5063059, shape=(), dtype=float32)\n",
            "Epoch: 27 Loss: tf.Tensor(1.6653055, shape=(), dtype=float32)\n",
            "Epoch: 28 Loss: tf.Tensor(0.9237941, shape=(), dtype=float32)\n",
            "Epoch: 29 Loss: tf.Tensor(0.8901517, shape=(), dtype=float32)\n",
            "Epoch: 30 Loss: tf.Tensor(0.85793346, shape=(), dtype=float32)\n",
            "Epoch: 31 Loss: tf.Tensor(0.81173193, shape=(), dtype=float32)\n",
            "Epoch: 32 Loss: tf.Tensor(0.68121105, shape=(), dtype=float32)\n",
            "Epoch: 33 Loss: tf.Tensor(0.6711858, shape=(), dtype=float32)\n",
            "Epoch: 34 Loss: tf.Tensor(0.61579233, shape=(), dtype=float32)\n",
            "Epoch: 35 Loss: tf.Tensor(0.48715493, shape=(), dtype=float32)\n",
            "Epoch: 36 Loss: tf.Tensor(0.66509163, shape=(), dtype=float32)\n",
            "Epoch: 37 Loss: tf.Tensor(0.5591964, shape=(), dtype=float32)\n",
            "Epoch: 38 Loss: tf.Tensor(0.5848818, shape=(), dtype=float32)\n",
            "Epoch: 39 Loss: tf.Tensor(0.48371843, shape=(), dtype=float32)\n",
            "Epoch: 40 Loss: tf.Tensor(0.5929655, shape=(), dtype=float32)\n",
            "Epoch: 41 Loss: tf.Tensor(0.42743897, shape=(), dtype=float32)\n",
            "Epoch: 42 Loss: tf.Tensor(0.38112566, shape=(), dtype=float32)\n",
            "Epoch: 43 Loss: tf.Tensor(0.5512452, shape=(), dtype=float32)\n",
            "Epoch: 44 Loss: tf.Tensor(0.45180324, shape=(), dtype=float32)\n",
            "Epoch: 45 Loss: tf.Tensor(0.5215381, shape=(), dtype=float32)\n",
            "Epoch: 46 Loss: tf.Tensor(0.46923295, shape=(), dtype=float32)\n",
            "Epoch: 47 Loss: tf.Tensor(0.30680543, shape=(), dtype=float32)\n",
            "Epoch: 48 Loss: tf.Tensor(0.40932485, shape=(), dtype=float32)\n",
            "Epoch: 49 Loss: tf.Tensor(0.571719, shape=(), dtype=float32)\n",
            "Epoch: 50 Loss: tf.Tensor(0.40630183, shape=(), dtype=float32)\n"
          ]
        }
      ]
    },
    {
      "cell_type": "markdown",
      "source": [
        "Похоже, результаты неплохи, обучение происходит весьма быстро. Давайте посмотрим на результаты на тестовой выборке"
      ],
      "metadata": {
        "id": "O9Tih2gPs5s-",
        "pycharm": {
          "name": "#%% md\n"
        }
      }
    },
    {
      "cell_type": "code",
      "source": [
        "results = tf.nn.softmax(forward_pass(X_test))"
      ],
      "metadata": {
        "id": "aRlElSlNnbzB",
        "pycharm": {
          "name": "#%%\n"
        }
      },
      "execution_count": 16,
      "outputs": []
    },
    {
      "cell_type": "markdown",
      "source": [
        "Напомним, что в качестве результата мы должны получить для каждой тестовой цифры набор из $10$ вероятностей — вероятностей классов, которые модель сопоставляет подаваемому объекту. Например, мы видим, что модель абсолютно уверена, что в качестве первого объекта тестового набора данных выступает цифра $7$. Визуализация показывает, что это и правда так."
      ],
      "metadata": {
        "collapsed": false,
        "pycharm": {
          "name": "#%% md\n"
        },
        "id": "GpqgVpHm9g3X"
      }
    },
    {
      "cell_type": "code",
      "source": [
        "results[0]"
      ],
      "metadata": {
        "colab": {
          "base_uri": "https://localhost:8080/"
        },
        "id": "fFMTMuQTsSSR",
        "outputId": "cdd66c94-249d-4b95-d1b0-ac2231a4dbed",
        "pycharm": {
          "name": "#%%\n"
        }
      },
      "execution_count": 17,
      "outputs": [
        {
          "output_type": "execute_result",
          "data": {
            "text/plain": [
              "<tf.Tensor: shape=(10,), dtype=float32, numpy=\n",
              "array([0.        , 0.        , 0.        , 0.        , 0.        ,\n",
              "       0.        , 0.        , 0.99999994, 0.        , 0.        ],\n",
              "      dtype=float32)>"
            ]
          },
          "metadata": {},
          "execution_count": 17
        }
      ]
    },
    {
      "cell_type": "code",
      "source": [
        "image = np.reshape(X_test[0], [-1, 28])"
      ],
      "metadata": {
        "id": "eEx3ABLHrcT8",
        "pycharm": {
          "name": "#%%\n"
        }
      },
      "execution_count": 18,
      "outputs": []
    },
    {
      "cell_type": "code",
      "source": [
        "plt.imshow(image, cmap='gray')\n",
        "plt.show()"
      ],
      "metadata": {
        "colab": {
          "base_uri": "https://localhost:8080/",
          "height": 430
        },
        "id": "pSRmu_uWrWy_",
        "outputId": "7372aa50-8f8a-4fec-f298-b685cb8dc9d0",
        "pycharm": {
          "name": "#%%\n"
        }
      },
      "execution_count": 19,
      "outputs": [
        {
          "output_type": "display_data",
          "data": {
            "text/plain": [
              "<Figure size 640x480 with 1 Axes>"
            ],
            "image/png": "[encoded data removed]"
          },
          "metadata": {}
        }
      ]
    },
    {
      "cell_type": "markdown",
      "source": [
        "Давайте поймем, как там с Accuracy. Чтобы работать с одинаковым типом данных, переведем истинные отклики из массива типа `numpy` в `Tensor`."
      ],
      "metadata": {
        "id": "pz9oHJFjs8nO",
        "pycharm": {
          "name": "#%% md\n"
        }
      }
    },
    {
      "cell_type": "code",
      "source": [
        "y_test = tf.constant(y_test)"
      ],
      "metadata": {
        "id": "K3I39sRKuF93",
        "pycharm": {
          "name": "#%%\n"
        }
      },
      "execution_count": 20,
      "outputs": []
    },
    {
      "cell_type": "markdown",
      "source": [
        "Посмотрим на совпадение предсказаний и истинных меток классов"
      ],
      "metadata": {
        "collapsed": false,
        "pycharm": {
          "name": "#%% md\n"
        },
        "id": "RT5wHiG99g3Y"
      }
    },
    {
      "cell_type": "code",
      "source": [
        "correct_predictions = tf.equal(tf.argmax(results, 1), y_test)\n",
        "correct_predictions"
      ],
      "metadata": {
        "colab": {
          "base_uri": "https://localhost:8080/"
        },
        "id": "DJA_Xs-Ms_QR",
        "outputId": "e725fdae-1150-4020-a7b4-0bd569167c29",
        "pycharm": {
          "name": "#%%\n"
        }
      },
      "execution_count": 21,
      "outputs": [
        {
          "output_type": "execute_result",
          "data": {
            "text/plain": [
              "<tf.Tensor: shape=(10000,), dtype=bool, numpy=array([ True,  True,  True, ...,  True,  True,  True])>"
            ]
          },
          "metadata": {},
          "execution_count": 21
        }
      ]
    },
    {
      "cell_type": "markdown",
      "source": [
        "Теперь посчитаем количество верно угаданных меток среди всех объектов"
      ],
      "metadata": {
        "collapsed": false,
        "pycharm": {
          "name": "#%% md\n"
        },
        "id": "nzf4kKMW9g3Z"
      }
    },
    {
      "cell_type": "code",
      "execution_count": 22,
      "outputs": [
        {
          "output_type": "execute_result",
          "data": {
            "text/plain": [
              "<tf.Tensor: shape=(), dtype=float32, numpy=0.8556>"
            ]
          },
          "metadata": {},
          "execution_count": 22
        }
      ],
      "source": [
        "accuracy = tf.reduce_mean(tf.cast(correct_predictions, tf.float32))\n",
        "accuracy"
      ],
      "metadata": {
        "pycharm": {
          "name": "#%%\n"
        },
        "id": "QXPanmRV9g3Z",
        "outputId": "83aa470c-7373-4014-8b12-6b8c78a5a5af",
        "colab": {
          "base_uri": "https://localhost:8080/"
        }
      }
    },
    {
      "cell_type": "markdown",
      "source": [
        "Выведем несколько изображений неверно классифицированных объектов. Ошибки, в целом, достаточно понятны."
      ],
      "metadata": {
        "collapsed": false,
        "pycharm": {
          "name": "#%% md\n"
        },
        "id": "mPVEAozC9g3Z"
      }
    },
    {
      "cell_type": "code",
      "execution_count": 23,
      "outputs": [
        {
          "output_type": "display_data",
          "data": {
            "text/plain": [
              "<Figure size 1600x1600 with 12 Axes>"
            ],
            "image/png": "[encoded data removed]"
          },
          "metadata": {}
        }
      ],
      "source": [
        "count = 12  # количество выводимых объектов\n",
        "\n",
        "fig, axes = plt.subplots(nrows=(count + 3) // 4, ncols=4)\n",
        "fig.set_size_inches((16, 16))\n",
        "for i in range(len(correct_predictions)):\n",
        "    if not correct_predictions[i]:\n",
        "        axes[(count - 1) // 4, (count - 1) % 4].imshow(X_test[i].reshape(-1, 28), cmap='gray')\n",
        "        axes[(count - 1) // 4, (count - 1) % 4].set_title(tf.argmax(results[i]).__str__())\n",
        "        count -= 1\n",
        "    if count == 0:\n",
        "        break\n",
        "plt.show()\n"
      ],
      "metadata": {
        "pycharm": {
          "name": "#%%\n"
        },
        "id": "BOGuHZgo9g3Z",
        "outputId": "72fcd25d-2226-4a96-d079-135fc945b2dc",
        "colab": {
          "base_uri": "https://localhost:8080/",
          "height": 1000
        }
      }
    }
  ]
}